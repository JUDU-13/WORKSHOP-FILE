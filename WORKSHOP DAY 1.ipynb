{
 "cells": [
  {
   "cell_type": "code",
   "execution_count": 1,
   "id": "f86f7e41",
   "metadata": {},
   "outputs": [
    {
     "name": "stdout",
     "output_type": "stream",
     "text": [
      "[1 1 2 3 4 5]\n",
      "<class 'numpy.ndarray'>\n"
     ]
    }
   ],
   "source": [
    "import numpy as np\n",
    "a=np.array([1,1,2,3,4,5])\n",
    "print(a)\n",
    "print(type(a))"
   ]
  },
  {
   "cell_type": "code",
   "execution_count": 2,
   "id": "5ff36af6",
   "metadata": {},
   "outputs": [
    {
     "name": "stdout",
     "output_type": "stream",
     "text": [
      "[[[1 2]\n",
      "  [1 2]]\n",
      "\n",
      " [[1 2]\n",
      "  [1 2]]]\n"
     ]
    }
   ],
   "source": [
    "#3d array\n",
    "c=np.array([[[1,2],[1,2]],[[1,2],[1,2]]])\n",
    "print(c)"
   ]
  },
  {
   "cell_type": "code",
   "execution_count": 3,
   "id": "b9cc6320",
   "metadata": {},
   "outputs": [
    {
     "name": "stdout",
     "output_type": "stream",
     "text": [
      "[1 2 3 4 5]\n",
      "[[1 2 3 4]\n",
      " [5 6 7 8]]\n",
      "[[[1 2]\n",
      "  [1 2]]\n",
      "\n",
      " [[1 2]\n",
      "  [1 2]]]\n",
      "1\n",
      "2\n",
      "3\n"
     ]
    }
   ],
   "source": [
    "#printing array dimension\n",
    "x=np.array([1,2,3,4,5])\n",
    "y=np.array([[1,2,3,4],[5,6,7,8]])\n",
    "z=np.array([[[1,2],[1,2]],[[1,2],[1,2]]])\n",
    "print(x)\n",
    "print(y)\n",
    "print(z)\n",
    "print(x.ndim)\n",
    "print(y.ndim)\n",
    "print(z.ndim)"
   ]
  },
  {
   "cell_type": "code",
   "execution_count": 4,
   "id": "28b9f1eb",
   "metadata": {},
   "outputs": [
    {
     "name": "stdout",
     "output_type": "stream",
     "text": [
      "1\n",
      "3\n"
     ]
    }
   ],
   "source": [
    "print(a[0])\n",
    "print(a[3])"
   ]
  },
  {
   "cell_type": "code",
   "execution_count": 5,
   "id": "0ab1a6ea",
   "metadata": {},
   "outputs": [
    {
     "name": "stdout",
     "output_type": "stream",
     "text": [
      "2nd element on 1st row 2\n"
     ]
    }
   ],
   "source": [
    "#printing speific array elements\n",
    "arr = np.array([[1,2,3,4,5],[6,7,8,9,10]])\n",
    "print('2nd element on 1st row',arr[0,1])\n"
   ]
  },
  {
   "cell_type": "code",
   "execution_count": 6,
   "id": "749a6450",
   "metadata": {},
   "outputs": [
    {
     "name": "stdout",
     "output_type": "stream",
     "text": [
      "9.0\n",
      "float16\n"
     ]
    }
   ],
   "source": [
    "#array data type\n",
    "arr = np.array([[[1,2,3],[4,5,6]],[[7,8,9],[10,11,12]]] , dtype='f2')\n",
    "print(arr[1,0,2])\n",
    "print(arr.dtype)"
   ]
  },
  {
   "cell_type": "code",
   "execution_count": 7,
   "id": "4914ba11",
   "metadata": {},
   "outputs": [
    {
     "name": "stdout",
     "output_type": "stream",
     "text": [
      "[2 3 4 5]\n",
      "[5 6]\n",
      "[4 5 6 7]\n",
      "[1 2 3 4 5]\n"
     ]
    }
   ],
   "source": [
    "#slicing arrays\n",
    "#1d array\n",
    "arr = np.array([1,2,3,4,5,6,7])\n",
    "print(arr[1:5])\n",
    "print(arr[4:6])\n",
    "print(arr[3:])\n",
    "print(arr[:5])"
   ]
  },
  {
   "cell_type": "code",
   "execution_count": 8,
   "id": "b7354fbe",
   "metadata": {},
   "outputs": [
    {
     "name": "stdout",
     "output_type": "stream",
     "text": [
      "[6 7 8]\n",
      "[3 4]\n",
      "[4]\n",
      "[5 6 7 8]\n"
     ]
    }
   ],
   "source": [
    "#slicing arrays\n",
    "#2d array\n",
    "y=np.array([[1,2,3,4],[5,6,7,8]])\n",
    "print(y[1,1:4])\n",
    "print(y[0,2:4])\n",
    "print(y[0,3:])\n",
    "print(y[1,:5])"
   ]
  },
  {
   "cell_type": "code",
   "execution_count": 9,
   "id": "2249f919",
   "metadata": {},
   "outputs": [
    {
     "name": "stdout",
     "output_type": "stream",
     "text": [
      "[42  2  3  4  5  6]\n",
      "[1 2 3 4 5 6]\n"
     ]
    }
   ],
   "source": [
    "#to make a copy of array\n",
    "b = np.array([1,2,3,4,5,6])\n",
    "c = b.copy()\n",
    "b[0]=42\n",
    "\n",
    "print(b)\n",
    "print(c)"
   ]
  },
  {
   "cell_type": "code",
   "execution_count": 10,
   "id": "568f93a0",
   "metadata": {},
   "outputs": [
    {
     "name": "stdout",
     "output_type": "stream",
     "text": [
      "[42  2  3  4  5  6]\n",
      "[42  2  3  4  5  6]\n"
     ]
    }
   ],
   "source": [
    "#to view the array\n",
    "b = np.array([1,2,3,4,5,6])\n",
    "c = b.view()\n",
    "b[0]=42\n",
    "\n",
    "print(b)\n",
    "print(c)"
   ]
  },
  {
   "cell_type": "code",
   "execution_count": 11,
   "id": "59a69a4e",
   "metadata": {},
   "outputs": [
    {
     "name": "stdout",
     "output_type": "stream",
     "text": [
      "(2, 4)\n"
     ]
    }
   ],
   "source": [
    "#SHAPING ARRAY\n",
    "y=np.array([[1,2,3,4],[5,6,7,8]])\n",
    "print(y.shape)"
   ]
  },
  {
   "cell_type": "code",
   "execution_count": 12,
   "id": "a378ab84",
   "metadata": {},
   "outputs": [
    {
     "name": "stdout",
     "output_type": "stream",
     "text": [
      "[[ 1  2  3]\n",
      " [ 4  5  6]\n",
      " [ 7  8  9]\n",
      " [10 11 12]]\n"
     ]
    }
   ],
   "source": [
    "#reshaping array\n",
    "y=np.array([1,2,3,4,5,6,7,8,9,10,11,12])\n",
    "new = y.reshape(4,3)\n",
    "print(new)"
   ]
  },
  {
   "cell_type": "code",
   "execution_count": 13,
   "id": "5ec3337a",
   "metadata": {},
   "outputs": [
    {
     "name": "stdout",
     "output_type": "stream",
     "text": [
      "[1 2 3 4 5 6 7 8]\n"
     ]
    }
   ],
   "source": [
    "#flattening the array\n",
    "y=np.array([[1,2,3,4],[5,6,7,8]])\n",
    "new = y.reshape(-1)\n",
    "print(new)"
   ]
  },
  {
   "cell_type": "code",
   "execution_count": 14,
   "id": "79bc51c6",
   "metadata": {},
   "outputs": [
    {
     "name": "stdout",
     "output_type": "stream",
     "text": [
      "1\n",
      "2\n",
      "3\n"
     ]
    }
   ],
   "source": [
    "#iterating array\n",
    "#1d\n",
    "arr = np.array([1,2,3])\n",
    "for x in arr:\n",
    "    print(x)"
   ]
  },
  {
   "cell_type": "code",
   "execution_count": 15,
   "id": "9bd08bad",
   "metadata": {},
   "outputs": [
    {
     "name": "stdout",
     "output_type": "stream",
     "text": [
      "[1 2 3 4 5]\n",
      "[ 6  7  8  9 10]\n"
     ]
    }
   ],
   "source": [
    "#iterating array\n",
    "#2d\n",
    "arr = np.array([[1,2,3,4,5],[6,7,8,9,10]])\n",
    "for x in arr:\n",
    "    print(x)"
   ]
  },
  {
   "cell_type": "code",
   "execution_count": 23,
   "id": "96f5fa76",
   "metadata": {},
   "outputs": [
    {
     "name": "stdout",
     "output_type": "stream",
     "text": [
      "1\n",
      "2\n",
      "3\n",
      "4\n",
      "5\n",
      "6\n",
      "7\n",
      "8\n",
      "9\n",
      "10\n"
     ]
    }
   ],
   "source": [
    "arr = np.array([[1,2,3,4,5],[6,7,8,9,10]])\n",
    "for x in arr:\n",
    "    for y in x:\n",
    "        print(y)"
   ]
  },
  {
   "cell_type": "code",
   "execution_count": 28,
   "id": "8c7b2586",
   "metadata": {},
   "outputs": [
    {
     "name": "stdout",
     "output_type": "stream",
     "text": [
      "1\n",
      "2\n",
      "3\n",
      "4\n",
      "5\n",
      "6\n",
      "7\n",
      "8\n",
      "9\n",
      "10\n"
     ]
    }
   ],
   "source": [
    "#easier method with out using for loop multipile times\n",
    "for x in np.nditer(arr):\n",
    "    print(x)"
   ]
  },
  {
   "cell_type": "code",
   "execution_count": 31,
   "id": "5bc78dad",
   "metadata": {},
   "outputs": [
    {
     "name": "stdout",
     "output_type": "stream",
     "text": [
      "[1 2 3 4 5 6]\n"
     ]
    }
   ],
   "source": [
    "#joining numpy arrays\n",
    "arr1=np.array([1,2,3])\n",
    "arr2=np.array([4,5,6])\n",
    "arr=np.concatenate((arr1,arr2))\n",
    "print(arr)"
   ]
  },
  {
   "cell_type": "code",
   "execution_count": 32,
   "id": "a2623e44",
   "metadata": {},
   "outputs": [
    {
     "name": "stdout",
     "output_type": "stream",
     "text": [
      "[1 2 3 4 5 6]\n"
     ]
    }
   ],
   "source": [
    "#joining 2D arrays along rows(axis=1)\n"
   ]
  },
  {
   "cell_type": "code",
   "execution_count": 33,
   "id": "8b144b55",
   "metadata": {},
   "outputs": [
    {
     "name": "stdout",
     "output_type": "stream",
     "text": [
      "(array([3, 7, 9], dtype=int64),)\n"
     ]
    }
   ],
   "source": [
    "#using where to find elemets\n",
    "arr = np.array([1,2,3,4,6,6,8,4,2,4])\n",
    "x=np.where(arr==4)\n",
    "print(x)"
   ]
  },
  {
   "cell_type": "code",
   "execution_count": 46,
   "id": "4d952b0a",
   "metadata": {},
   "outputs": [
    {
     "name": "stdout",
     "output_type": "stream",
     "text": [
      "4\n"
     ]
    }
   ],
   "source": [
    "#search sort\n",
    "p= np.array([6,7,8,9])\n",
    "x=np.searchsorted(p,9, side='right') ##error in juypter\n",
    "print(x)"
   ]
  },
  {
   "cell_type": "code",
   "execution_count": 48,
   "id": "3d823bcb",
   "metadata": {},
   "outputs": [
    {
     "name": "stdout",
     "output_type": "stream",
     "text": [
      "['apple' 'banana' 'cherry']\n"
     ]
    }
   ],
   "source": [
    "#sorting in alphabetical oder\n",
    "arr = np.array(['banana','cherry','apple'])\n",
    "print(np.sort(arr))"
   ]
  },
  {
   "cell_type": "code",
   "execution_count": 49,
   "id": "3e45287b",
   "metadata": {},
   "outputs": [
    {
     "name": "stdout",
     "output_type": "stream",
     "text": [
      "[[2 3 4]\n",
      " [0 1 5]]\n"
     ]
    }
   ],
   "source": [
    "#sorting 2D array\n",
    "arr = np.array([[3,2,4],[5,0,1]])\n",
    "print(np.sort(arr))"
   ]
  },
  {
   "cell_type": "code",
   "execution_count": 51,
   "id": "9dc1a6a5",
   "metadata": {},
   "outputs": [
    {
     "name": "stdout",
     "output_type": "stream",
     "text": [
      "51\n"
     ]
    }
   ],
   "source": [
    "#to generate random number\n",
    "from numpy import random as rand\n",
    "x=rand.randint(100)\n",
    "print(x)\n"
   ]
  },
  {
   "cell_type": "code",
   "execution_count": 53,
   "id": "265af5d2",
   "metadata": {},
   "outputs": [
    {
     "name": "stdout",
     "output_type": "stream",
     "text": [
      "[82 71 47 52 56 57 97 80 96 35 95 66 62 99 35  3 86 48 89 60 70 69 10 75\n",
      " 98 91 58 70 33 81 78  9 24 73 39  0 47 46 49 98 38 91 81 22 62  4 94 98\n",
      " 37  5 70  9 32 63 46 87  2 73 23 34 68 72 83 99 21 49 91 27 64 14 97 84\n",
      " 83 31 46 78 89 71 90 64 22 32 68 91 38 23 40 24 17 10 32 44 27 70 49  7\n",
      " 97 55 20 82]\n"
     ]
    }
   ],
   "source": [
    "x=rand.randint(100,size=(100))\n",
    "print(x)\n"
   ]
  },
  {
   "cell_type": "code",
   "execution_count": 59,
   "id": "98c56fc8",
   "metadata": {},
   "outputs": [
    {
     "name": "stdout",
     "output_type": "stream",
     "text": [
      "[2 2 2 4 4 5 3 2 3 2 3 2 5 4 2 2 2 3 3 1 1 2 2 2 2 3 3 4 3 2 5 5 2 2 2 2 3\n",
      " 5 4 3 2 2 2 2 2 1 2 1 4 3 2 4 2 2 4 2 2 2 2 1 3 3 2 2 2 2 5 2 2 2 2 3 4 2\n",
      " 2 2 5 4 2 2 5 2 2 2 3 2 2 2 2 3 2 2 5 3 2 2 2 2 2 4]\n"
     ]
    }
   ],
   "source": [
    "x=rand.choice([1,2,3,4,5],p=[0.1,0.5,0.2,0.1,0.1],size=(100))\n",
    "print(x)"
   ]
  },
  {
   "cell_type": "code",
   "execution_count": null,
   "id": "046cb96d",
   "metadata": {},
   "outputs": [],
   "source": []
  }
 ],
 "metadata": {
  "kernelspec": {
   "display_name": "Python 3 (ipykernel)",
   "language": "python",
   "name": "python3"
  },
  "language_info": {
   "codemirror_mode": {
    "name": "ipython",
    "version": 3
   },
   "file_extension": ".py",
   "mimetype": "text/x-python",
   "name": "python",
   "nbconvert_exporter": "python",
   "pygments_lexer": "ipython3",
   "version": "3.9.12"
  }
 },
 "nbformat": 4,
 "nbformat_minor": 5
}
